{
 "cells": [
  {
   "cell_type": "markdown",
   "metadata": {},
   "source": [
    "TODO"
   ]
  },
  {
   "cell_type": "code",
   "execution_count": null,
   "metadata": {},
   "outputs": [],
   "source": [
    "import os\n",
    "import os.path\n",
    "import re\n",
    "\n",
    "import matplotlib.pyplot as plt\n",
    "import pandas as pd\n",
    "%matplotlib inline\n",
    "\n",
    "from IPython.display import display"
   ]
  },
  {
   "cell_type": "markdown",
   "metadata": {},
   "source": [
    "Some settings"
   ]
  },
  {
   "cell_type": "code",
   "execution_count": null,
   "metadata": {},
   "outputs": [],
   "source": [
    "plt.rcParams['figure.figsize'] = [20, 8]\n",
    "topleveldir = os.path.join(os.getcwd(), '..', 'results', '20220707saparamsearch')"
   ]
  },
  {
   "cell_type": "markdown",
   "metadata": {},
   "source": [
    "Parameters"
   ]
  },
  {
   "cell_type": "code",
   "execution_count": null,
   "metadata": {},
   "outputs": [],
   "source": [
    "# Select from: 15, 30, 45, 60, 75\n",
    "temperatures = [15]\n",
    "# Select from 0.95, 0.99\n",
    "alfas = [0.95]\n",
    "# Select from 2, 4, 6, 8, 10\n",
    "multipliers = [2, 4]\n",
    "# select from 0: (1, 0, 0); 1: (.9, .1, 0); 2: (.9, .05, .05); 3: (.75, .25, 0); 4: (.75, .15, .1)\n",
    "fracs = [0, 1, 2, 3, 4]\n",
    "# select from 5, 10, 15, 20, 50\n",
    "ns = [50]\n",
    "# select from 25.00, 50.00, 100.00, 200.00\n",
    "ps = [50.00]\n",
    "\n",
    "# Compile sets of parameters\n",
    "param_sets = [(temp, alfa, mult, frac, n, p) for temp in temperatures for alfa in alfas for mult in multipliers for frac in fracs for n in ns for p in ps]"
   ]
  },
  {
   "cell_type": "markdown",
   "metadata": {},
   "source": [
    "Utility functions for getting the summary & iterations data files for given parameters"
   ]
  },
  {
   "cell_type": "code",
   "execution_count": null,
   "metadata": {},
   "outputs": [],
   "source": [
    "def summary_files(basepath, temp, alfa, mult, frac):\n",
    "    \"\"\"Returns a list of all summary files associated with the parameter values.\"\"\"\n",
    "    summary_files = []\n",
    "    summary_dir = os.path.join(basepath, f'temp{temp}alfa{alfa:.2f}mult{mult}frac{frac}')\n",
    "    pattern = re.compile('[0-9_]*_summary.csv$')\n",
    "    for root, directories, files in os.walk(summary_dir):\n",
    "        for file in files:\n",
    "            if pattern.match(file):\n",
    "                summary_files.append(os.path.join(root, file))\n",
    "    return summary_files\n",
    "\n",
    "def iterations_file(basepath, temp, alfa, mult, frac, n, p):\n",
    "    \"\"\"Returns the path to the directory associated with the parameter values.\"\"\"\n",
    "    report_dir = \"\"\n",
    "    top_lvl_dir = os.path.join(basepath, f'temp{temp}alfa{alfa:.2f}mult{mult}frac{frac}')\n",
    "    pattern = re.compile('[0-9]*_n' + re.escape(f'{n}') + 'r' + re.escape(f'{p:.2f}') + 'a0i0$')\n",
    "    for root, directories, files in os.walk(top_lvl_dir):\n",
    "        for directory in directories:\n",
    "            if pattern.match(directory):\n",
    "                report_dir = os.path.join(root, directory)\n",
    "    return os.path.join(report_dir, \"iterations.csv\")"
   ]
  },
  {
   "cell_type": "markdown",
   "metadata": {},
   "source": [
    "Define function for displaying a progress graph for the selected parameters"
   ]
  },
  {
   "cell_type": "code",
   "execution_count": null,
   "metadata": {},
   "outputs": [],
   "source": [
    "def display_iteration_graph(sets, iter_limit=None):\n",
    "    fig, (ax1, ax2) = plt.subplots(2, 1)\n",
    "    ax1.set_xlabel('Number of iterations')\n",
    "    ax2.set_xlabel('Number of iterations')\n",
    "    ax1.set_ylabel('Objective value (best)')\n",
    "    ax2.set_ylabel('Objective value (current)')\n",
    "    ax1.set_title('Evolution of the value of the best found solution')\n",
    "    ax2.set_title('Evolution of the value of the current solution')\n",
    "    if iter_limit is not None:\n",
    "        ax1.set_xlim(0, iter_limit)\n",
    "        ax2.set_xlim(0, iter_limit)\n",
    "    for param_set in sets:\n",
    "        iter_path = iterations_file(topleveldir, param_set[0], param_set[1], param_set[2], param_set[3], param_set[4], param_set[5])\n",
    "        data = pd.read_csv(\n",
    "            iter_path,\n",
    "            sep=';',\n",
    "            usecols=([\n",
    "                '#', 'time', 'best_score', 'curr_score', 'rejected', 'slack'\n",
    "            ])\n",
    "        )\n",
    "        ax1.plot(\n",
    "            data['#'],\n",
    "            data['best_score'],\n",
    "            label=f\"({param_set[0]}, {param_set[1]:.2f}, {param_set[2]}, {param_set[3]}, {param_set[4]}, {param_set[5]:.2f})\"\n",
    "        )\n",
    "        ax2.plot(\n",
    "            data['#'],\n",
    "            data['curr_score'],\n",
    "            label=f\"({param_set[0]}, {param_set[1]:.2f}, {param_set[2]}, {param_set[3]}, {param_set[4]}, {param_set[5]:.2f})\"\n",
    "        )\n",
    "    handles, labels = ax1.get_legend_handles_labels()\n",
    "    fig.legend(handles, labels, loc=\"upper center\")"
   ]
  },
  {
   "cell_type": "markdown",
   "metadata": {},
   "source": [
    "Define function for collecting some results in a table"
   ]
  },
  {
   "cell_type": "code",
   "execution_count": null,
   "metadata": {},
   "outputs": [],
   "source": [
    "def display_summary_results(sets):\n",
    "    collect_data = []\n",
    "    for param_set in sets:\n",
    "        summ_files = summary_files(topleveldir, param_set[0], param_set[1], param_set[2], param_set[3])\n",
    "        for potential_summary in summ_files:\n",
    "            data = pd.read_csv(\n",
    "                potential_summary,\n",
    "                sep=';',\n",
    "                usecols=([\n",
    "                    'n', 'r', '#iter', 'time', 'best', 'slack'\n",
    "                ])\n",
    "            )\n",
    "            pot_data = data.loc[(data['n'] == param_set[4]) & (data['r'] == param_set[5])]\n",
    "            if pot_data.shape[0] > 0:\n",
    "                collect_data.append(pot_data.values.tolist()[0])\n",
    "                break\n",
    "    df = pd.DataFrame(collect_data, columns=['n', 'r', '#iter', 'time', 'best', 'slack'])\n",
    "    display(df)\n",
    "            "
   ]
  },
  {
   "cell_type": "markdown",
   "metadata": {},
   "source": [
    "Display summary statistics"
   ]
  },
  {
   "cell_type": "code",
   "execution_count": null,
   "metadata": {},
   "outputs": [],
   "source": [
    "display_iteration_graph(param_sets, iter_limit=None)\n",
    "display_summary_results(param_sets)"
   ]
  },
  {
   "cell_type": "code",
   "execution_count": null,
   "metadata": {},
   "outputs": [],
   "source": []
  }
 ],
 "metadata": {
  "kernelspec": {
   "display_name": "Python 3 (ipykernel)",
   "language": "python",
   "name": "python3"
  },
  "language_info": {
   "codemirror_mode": {
    "name": "ipython",
    "version": 3
   },
   "file_extension": ".py",
   "mimetype": "text/x-python",
   "name": "python",
   "nbconvert_exporter": "python",
   "pygments_lexer": "ipython3",
   "version": "3.9.7"
  }
 },
 "nbformat": 4,
 "nbformat_minor": 4
}
